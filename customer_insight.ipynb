{
 "cells": [
  {
   "cell_type": "code",
   "execution_count": 2,
   "metadata": {},
   "outputs": [],
   "source": [
    "import csv\n",
    "import pandas as pd"
   ]
  },
  {
   "cell_type": "code",
   "execution_count": 3,
   "metadata": {},
   "outputs": [
    {
     "name": "stderr",
     "output_type": "stream",
     "text": [
      "c:\\users\\tkyipicard\\lib\\site-packages\\IPython\\core\\interactiveshell.py:3051: DtypeWarning: Columns (12) have mixed types. Specify dtype option on import or set low_memory=False.\n",
      "  interactivity=interactivity, compiler=compiler, result=result)\n"
     ]
    }
   ],
   "source": [
    "hostipitality_customers = pd.read_csv('data/HospitalityCustomers.txt')"
   ]
  },
  {
   "cell_type": "code",
   "execution_count": 50,
   "metadata": {},
   "outputs": [],
   "source": [
    "reservations = pd.read_csv('data/Reservations.txt')"
   ]
  },
  {
   "cell_type": "code",
   "execution_count": 52,
   "metadata": {},
   "outputs": [],
   "source": [
    "restaurant_locations = pd.read_csv('data/Restaurant_Locations.txt')"
   ]
  },
  {
   "cell_type": "code",
   "execution_count": 6,
   "metadata": {},
   "outputs": [
    {
     "name": "stderr",
     "output_type": "stream",
     "text": [
      "c:\\users\\tkyipicard\\lib\\site-packages\\IPython\\core\\interactiveshell.py:3051: DtypeWarning: Columns (11) have mixed types. Specify dtype option on import or set low_memory=False.\n",
      "  interactivity=interactivity, compiler=compiler, result=result)\n"
     ]
    }
   ],
   "source": [
    "survey_contacts = pd.read_csv('data/SurveyContacts.txt')"
   ]
  },
  {
   "cell_type": "code",
   "execution_count": 7,
   "metadata": {},
   "outputs": [],
   "source": [
    "surveys = pd.read_csv('data/Surveys.txt')"
   ]
  },
  {
   "cell_type": "markdown",
   "metadata": {},
   "source": [
    "## delete all the empty columns"
   ]
  },
  {
   "cell_type": "code",
   "execution_count": 22,
   "metadata": {},
   "outputs": [],
   "source": [
    "surveys=surveys.drop(columns=['AttributeA', 'AttributeB', 'AttributeC', 'AttributeD', 'AttributeE'])"
   ]
  },
  {
   "cell_type": "code",
   "execution_count": 21,
   "metadata": {},
   "outputs": [],
   "source": [
    "survey_contacts=survey_contacts.drop(columns=['AttributeA', 'AttributeB', 'AttributeC', 'AttributeD'])"
   ]
  },
  {
   "cell_type": "code",
   "execution_count": 53,
   "metadata": {},
   "outputs": [],
   "source": [
    "restaurant_locations=restaurant_locations.drop(columns=['AttributeA', 'AttributeB', 'AttributeC', 'AttributeD'])"
   ]
  },
  {
   "cell_type": "code",
   "execution_count": 54,
   "metadata": {},
   "outputs": [],
   "source": [
    "reservations=reservations.drop(columns=['AttributeA', 'AttributeB', 'AttributeC', 'AttributeD', 'AttributeE'])"
   ]
  },
  {
   "cell_type": "code",
   "execution_count": 17,
   "metadata": {},
   "outputs": [],
   "source": [
    "hostipitality_customers = hostipitality_customers.drop(columns=['AttributeA', 'AttributeB', 'AttributeC', 'AttributeD'])"
   ]
  },
  {
   "cell_type": "code",
   "execution_count": 26,
   "metadata": {},
   "outputs": [
    {
     "data": {
      "text/plain": [
       "A0DA01E5-B48D-4996-AA45-9E33D8D71329    1\n",
       "3B1F0A81-94F3-4966-8B30-392ACC3BB555    1\n",
       "2A8DC565-6F28-4F41-8AE5-DEC5912AD31E    1\n",
       "0D55E393-F7A1-46D9-BB25-A36D88738141    1\n",
       "4DAD04AB-6136-434F-9868-40635CA7D081    1\n",
       "                                       ..\n",
       "4DE2DBDA-F903-4939-863F-FC709B9AB832    1\n",
       "DBFD0A5A-F824-4731-9B40-4458E4D8F8EA    1\n",
       "5F3CAFB1-F5E7-4E4C-AB0C-62173DEB70E7    1\n",
       "599EA6E1-C46E-4441-A6BC-49C6D1001FB6    1\n",
       "44C81195-29FB-46A5-A2F9-BCEE0AD18CB0    1\n",
       "Name: CustomerID, Length: 1000006, dtype: int64"
      ]
     },
     "execution_count": 26,
     "metadata": {},
     "output_type": "execute_result"
    }
   ],
   "source": [
    "# merge all the dataframes containing CustomerId\n",
    "hostipitality_customers.CustomerID.value_counts()"
   ]
  },
  {
   "cell_type": "code",
   "execution_count": 43,
   "metadata": {},
   "outputs": [
    {
     "data": {
      "text/plain": [
       "6C274696-5B7B-48F3-AB40-B0FBFB4C26CE    107893\n",
       "9F0B1BA9-4A0B-4280-9FB4-76DDDD2122CC    107654\n",
       "7F8F11EF-A188-442A-8FBB-CC53B033B260     82442\n",
       "3A7988CF-E05A-4668-B972-244D92815B87     47914\n",
       "7AEF27BE-7CA1-4DAB-BE41-C39EE9C626B0     37501\n",
       "                                         ...  \n",
       "B4ADD95D-565F-47F8-9272-DF5193402CFC       724\n",
       "8009F4BA-D30A-48A4-AD32-E5B4C9EDE006       712\n",
       "EBF86331-82DC-49E4-A462-9C349733BC06       698\n",
       "5F6D8127-E2E4-45BE-B23C-C1EA26635BDB       693\n",
       "AE179A2E-E250-445A-8F3B-2648E69CDF0F       683\n",
       "Name: LocationID, Length: 725, dtype: int64"
      ]
     },
     "execution_count": 43,
     "metadata": {},
     "output_type": "execute_result"
    }
   ],
   "source": [
    "reservations.LocationID.value_counts()"
   ]
  },
  {
   "cell_type": "code",
   "execution_count": 27,
   "metadata": {},
   "outputs": [
    {
     "data": {
      "text/plain": [
       "450C0282-4AE4-4467-8C4F-B088C401B2AE    88\n",
       "08091E8D-EF9F-43F1-A77E-C89F0B70404C    75\n",
       "EB288AEA-AB75-4715-994A-2F870683A881    73\n",
       "B27FE399-D5BA-4625-A6B6-CD2809B935FC    68\n",
       "825CF2C3-518B-4461-A112-160785857118    61\n",
       "                                        ..\n",
       "A713D214-CA7F-47AA-BA4B-C0598D1B4E71     1\n",
       "853C034E-20EB-48DD-B2EE-1A684EDA5C67     1\n",
       "581B8E3C-9969-4509-B942-F25DA30123C6     1\n",
       "BDB4626E-2C93-4BC0-9C60-1CDF99EE8791     1\n",
       "44C81195-29FB-46A5-A2F9-BCEE0AD18CB0     1\n",
       "Name: CustomerID, Length: 1000006, dtype: int64"
      ]
     },
     "execution_count": 27,
     "metadata": {},
     "output_type": "execute_result"
    }
   ],
   "source": [
    "reservations.CustomerID.value_counts()"
   ]
  },
  {
   "cell_type": "code",
   "execution_count": 33,
   "metadata": {},
   "outputs": [
    {
     "data": {
      "text/plain": [
       "B6B802EC-5783-4C32-A6A8-AD90D1AB2C36    1\n",
       "08073CAA-B50B-4F3C-BDDE-7B25669DD1F4    1\n",
       "1ACC3C04-E5F5-4CD0-A670-C406C9214966    1\n",
       "E815BDDC-8062-41AC-B46F-D39D6831EFD6    1\n",
       "B8C5B455-26B5-4BB9-90CC-1CB0CA10B168    1\n",
       "                                       ..\n",
       "C5779AAA-32BC-48AC-BAC6-C3682CC2FC00    1\n",
       "04F487F9-5199-4DED-AE5A-584D3EE1AE68    1\n",
       "7745CA5E-6D7B-4658-B340-654643482C4D    1\n",
       "F5FEC172-8679-4E14-9B1D-80AD4DF51BBD    1\n",
       "DEF79348-1381-47F8-9825-9342FEBAE770    1\n",
       "Name: LocationID, Length: 931, dtype: int64"
      ]
     },
     "execution_count": 33,
     "metadata": {},
     "output_type": "execute_result"
    }
   ],
   "source": [
    "restaurant_locations.LocationID.value_counts()"
   ]
  },
  {
   "cell_type": "code",
   "execution_count": 35,
   "metadata": {},
   "outputs": [
    {
     "data": {
      "text/plain": [
       "CA5EE322-185B-4B8B-BF77-460E927D8EA7    1\n",
       "01E4A8F4-06D0-4EC3-9260-3FB971B61C80    1\n",
       "792F6ACC-34AC-4D61-AFE9-CB18A21C4EB3    1\n",
       "38004ABD-2D87-4A34-9728-958550D5294C    1\n",
       "089A3320-815E-4BEC-975B-1AB66CE9C3C5    1\n",
       "                                       ..\n",
       "12BFB652-28EF-4F9B-808F-F47E3906538A    1\n",
       "53534D1A-BE72-4CE3-83BF-28D48D53649C    1\n",
       "2D1FBF24-7667-4C1D-91E6-43754B760269    1\n",
       "8A8C16AF-F753-486D-A2AB-7A483AFCEDE2    1\n",
       "0BF0B6C4-7FC4-487D-9FEA-DEB8842AE346    1\n",
       "Name: SurveyID, Length: 1149882, dtype: int64"
      ]
     },
     "execution_count": 35,
     "metadata": {},
     "output_type": "execute_result"
    }
   ],
   "source": [
    "surveys.SurveyID.value_counts()"
   ]
  },
  {
   "cell_type": "code",
   "execution_count": 37,
   "metadata": {},
   "outputs": [
    {
     "data": {
      "text/plain": [
       "3A6CD05E-73B1-4393-945B-B4C2310F64C0    52\n",
       "CF3A1F6C-3E66-4A6B-BD98-6C8DE9DA66DD    49\n",
       "9845CD8E-3060-4D7E-903E-F1587DF893F9    47\n",
       "35FF569B-863D-4C59-9045-D5A536F20EF9    44\n",
       "49D5D381-2AD2-4C98-9EBE-B01C1F9BA461    42\n",
       "                                        ..\n",
       "A69C4CDB-2451-46AF-91CE-90856790E194     1\n",
       "480A7010-BE96-45E2-94AB-EDA74D3953E8     1\n",
       "0AC835C4-2EC8-4F82-BBA9-0B9FA2F0AA8F     1\n",
       "08306F35-0700-4540-A7CE-8879862E1F86     1\n",
       "E44F0E93-4A03-47D4-AF33-02B88DB7947A     1\n",
       "Name: SurveyContactID, Length: 748877, dtype: int64"
      ]
     },
     "execution_count": 37,
     "metadata": {},
     "output_type": "execute_result"
    }
   ],
   "source": [
    "surveys.SurveyContactID.value_counts()"
   ]
  },
  {
   "cell_type": "code",
   "execution_count": 39,
   "metadata": {},
   "outputs": [
    {
     "data": {
      "text/plain": [
       "8C597FC9-747B-4A8A-AAB4-C57495D3D7A0    1\n",
       "D81BE5B9-0B44-45B4-BB02-6FE628BC457C    1\n",
       "10D7828E-1D1F-4D7F-8D59-77560BD27F00    1\n",
       "C50DBA52-20DA-4132-A91D-86A05F182B0C    1\n",
       "CE926273-235E-47D2-BEEE-B5A34CE029EE    1\n",
       "                                       ..\n",
       "65F370E2-824C-418B-B572-AB78E5E3BD64    1\n",
       "C7E4682B-5D54-40F0-9E18-A86D03E66472    1\n",
       "31E842F6-9E3D-4594-A01C-AD1767AECB4C    1\n",
       "D43136E8-B0CE-499C-8356-5744C99CED38    1\n",
       "CC838E7F-5AFE-4CFA-828D-86719690E9B7    1\n",
       "Name: SurveyContactID, Length: 748877, dtype: int64"
      ]
     },
     "execution_count": 39,
     "metadata": {},
     "output_type": "execute_result"
    }
   ],
   "source": [
    "survey_contacts.SurveyContactID.value_counts()"
   ]
  },
  {
   "cell_type": "markdown",
   "metadata": {},
   "source": [
    "## Combining dataframes"
   ]
  },
  {
   "cell_type": "code",
   "execution_count": 82,
   "metadata": {},
   "outputs": [],
   "source": [
    "# merge reservations and hospitality_customers with CustomerID. Both have same number of lines\n",
    "hospitality_reservations = hostipitality_customers.merge(reservations, how='inner', on='CustomerID')"
   ]
  },
  {
   "cell_type": "code",
   "execution_count": 83,
   "metadata": {},
   "outputs": [],
   "source": [
    "# locationID de hospitality_reservations avec restaurant_locations\n",
    "hos_res_loc = hospitality_reservations.merge(restaurant_locations, how='inner', on=\"LocationID\")"
   ]
  },
  {
   "cell_type": "code",
   "execution_count": 115,
   "metadata": {},
   "outputs": [],
   "source": [
    "#merging surveys and surveys_contacts\n",
    "surveys_survey_contacts = survey_contacts.merge(surveys, how='inner', on='SurveyContactID')"
   ]
  },
  {
   "cell_type": "code",
   "execution_count": 85,
   "metadata": {},
   "outputs": [],
   "source": [
    "#rename columns\n",
    "import re\n",
    "hos_res_loc = hos_res_loc.rename(columns=lambda x: re.sub('_x','',x))\n",
    "hos_res_loc = hos_res_loc.rename(columns=lambda y: re.sub('_y', '_restaurant', y))"
   ]
  },
  {
   "cell_type": "code",
   "execution_count": 87,
   "metadata": {},
   "outputs": [],
   "source": [
    "#1566569 rows × 31 columns without dropna\n",
    "#418 rows × 31 columns with dropna"
   ]
  },
  {
   "cell_type": "code",
   "execution_count": 99,
   "metadata": {},
   "outputs": [
    {
     "name": "stdout",
     "output_type": "stream",
     "text": [
      "942269\n"
     ]
    }
   ],
   "source": [
    "names = hos_res_loc.Name.unique()\n",
    "print(len(names))"
   ]
  },
  {
   "cell_type": "code",
   "execution_count": 100,
   "metadata": {},
   "outputs": [
    {
     "name": "stdout",
     "output_type": "stream",
     "text": [
      "343\n"
     ]
    }
   ],
   "source": [
    "res_names = hos_res_loc.Name_restaurant.unique()\n",
    "print(len(res_names))"
   ]
  },
  {
   "cell_type": "code",
   "execution_count": 118,
   "metadata": {},
   "outputs": [
    {
     "data": {
      "text/plain": [
       "Index(['Name', 'Address', 'City', 'State', 'Country', 'Zip', 'EmailId',\n",
       "       'Gender', 'DOB', 'Phone', 'SSN', 'Individual', 'ExtraActivity',\n",
       "       'CustomerID', 'ReservationID', 'LocationID', 'Source',\n",
       "       'ReservationDate', 'CheckOutDate', 'NumberOfGuests', 'TotalPrice',\n",
       "       'Subject', 'Description', 'Name_restaurant', 'Address_restaurant',\n",
       "       'City_restaurant', 'State_restaurant', 'Zip_restaurant',\n",
       "       'Country_restaurant', 'PhoneNumber', 'NoOfTables'],\n",
       "      dtype='object')"
      ]
     },
     "execution_count": 118,
     "metadata": {},
     "output_type": "execute_result"
    }
   ],
   "source": [
    "hos_res_loc.columns"
   ]
  },
  {
   "cell_type": "code",
   "execution_count": 126,
   "metadata": {},
   "outputs": [
    {
     "data": {
      "text/plain": [
       "Index(['SurveyContactID', 'Name', 'Email', 'DOB', 'Gender', 'StreetAddress',\n",
       "       'City', 'StateProvince', 'Country', 'PostalCode', 'PhoneNumber',\n",
       "       'ExtraActivity', 'SurveyID', 'SurveyDate', 'SurveyQuestion', 'Response',\n",
       "       'Subject', 'Description'],\n",
       "      dtype='object')"
      ]
     },
     "execution_count": 126,
     "metadata": {},
     "output_type": "execute_result"
    }
   ],
   "source": [
    "surveys_survey_contacts.columns"
   ]
  },
  {
   "cell_type": "code",
   "execution_count": 128,
   "metadata": {},
   "outputs": [
    {
     "data": {
      "text/plain": [
       "False    1512944\n",
       "True       53625\n",
       "Name: PhoneNumber, dtype: int64"
      ]
     },
     "execution_count": 128,
     "metadata": {},
     "output_type": "execute_result"
    }
   ],
   "source": [
    "#check the number of phone number matches between the two columns\n",
    "hos_res_loc['PhoneNumber'].isin(hos_res_loc['Phone']).value_counts()#"
   ]
  },
  {
   "cell_type": "code",
   "execution_count": 135,
   "metadata": {},
   "outputs": [
    {
     "data": {
      "text/plain": [
       "False    1489065\n",
       "True       77504\n",
       "Name: Phone, dtype: int64"
      ]
     },
     "execution_count": 135,
     "metadata": {},
     "output_type": "execute_result"
    }
   ],
   "source": [
    "#check the number of phone number matches between the two columns\n",
    "hos_res_loc['Phone'].isin(hos_res_loc['PhoneNumber']).value_counts()#"
   ]
  },
  {
   "cell_type": "markdown",
   "metadata": {},
   "source": [
    "## comparing surveys_survey_contacts dataframes with hos_res_loc dataframe"
   ]
  },
  {
   "cell_type": "code",
   "execution_count": 130,
   "metadata": {},
   "outputs": [
    {
     "data": {
      "text/plain": [
       "{'City',\n",
       " 'Country',\n",
       " 'DOB',\n",
       " 'Description',\n",
       " 'ExtraActivity',\n",
       " 'Gender',\n",
       " 'Name',\n",
       " 'PhoneNumber',\n",
       " 'Subject'}"
      ]
     },
     "execution_count": 130,
     "metadata": {},
     "output_type": "execute_result"
    }
   ],
   "source": [
    "#Comparing column names in two different dataframes\n",
    "set(hos_res_loc.columns).intersection(set(surveys_survey_contacts.columns))"
   ]
  },
  {
   "cell_type": "code",
   "execution_count": 134,
   "metadata": {},
   "outputs": [
    {
     "data": {
      "text/plain": [
       "set()"
      ]
     },
     "execution_count": 134,
     "metadata": {},
     "output_type": "execute_result"
    }
   ],
   "source": [
    "#Comparing values in two different columns of two different dataframes\n",
    "set(hos_res_loc.CustomerID).intersection(set(surveys_survey_contacts.SurveyContactID))"
   ]
  },
  {
   "cell_type": "code",
   "execution_count": null,
   "metadata": {},
   "outputs": [],
   "source": []
  },
  {
   "cell_type": "code",
   "execution_count": null,
   "metadata": {},
   "outputs": [],
   "source": []
  }
 ],
 "metadata": {
  "kernelspec": {
   "display_name": "Python 3",
   "language": "python",
   "name": "python3"
  },
  "language_info": {
   "codemirror_mode": {
    "name": "ipython",
    "version": 3
   },
   "file_extension": ".py",
   "mimetype": "text/x-python",
   "name": "python",
   "nbconvert_exporter": "python",
   "pygments_lexer": "ipython3",
   "version": "3.6.5"
  }
 },
 "nbformat": 4,
 "nbformat_minor": 2
}
