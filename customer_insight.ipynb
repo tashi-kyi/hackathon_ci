{
 "cells": [
  {
   "cell_type": "code",
   "execution_count": 1,
   "metadata": {},
   "outputs": [],
   "source": [
    "import csv\n",
    "import pandas as pd"
   ]
  },
  {
   "cell_type": "markdown",
   "metadata": {},
   "source": [
    "## Load data"
   ]
  },
  {
   "cell_type": "code",
   "execution_count": 2,
   "metadata": {},
   "outputs": [
    {
     "name": "stderr",
     "output_type": "stream",
     "text": [
      "c:\\users\\tkyipicard\\lib\\site-packages\\IPython\\core\\interactiveshell.py:3051: DtypeWarning: Columns (12) have mixed types. Specify dtype option on import or set low_memory=False.\n",
      "  interactivity=interactivity, compiler=compiler, result=result)\n",
      "c:\\users\\tkyipicard\\lib\\site-packages\\IPython\\core\\interactiveshell.py:3051: DtypeWarning: Columns (11) have mixed types. Specify dtype option on import or set low_memory=False.\n",
      "  interactivity=interactivity, compiler=compiler, result=result)\n"
     ]
    }
   ],
   "source": [
    "hostipitality_customers = pd.read_csv('data/HospitalityCustomers.txt')\n",
    "reservations = pd.read_csv('data/Reservations.txt')\n",
    "restaurant_locations = pd.read_csv('data/Restaurant_Locations.txt')\n",
    "survey_contacts = pd.read_csv('data/SurveyContacts.txt')\n",
    "surveys = pd.read_csv('data/Surveys.txt')"
   ]
  },
  {
   "cell_type": "markdown",
   "metadata": {},
   "source": [
    "## delete all the empty columns"
   ]
  },
  {
   "cell_type": "code",
   "execution_count": 3,
   "metadata": {},
   "outputs": [],
   "source": [
    "surveys=surveys.drop(columns=['AttributeA', 'AttributeB', 'AttributeC', 'AttributeD', 'AttributeE'])\n",
    "survey_contacts=survey_contacts.drop(columns=['AttributeA', 'AttributeB', 'AttributeC', 'AttributeD'])\n",
    "restaurant_locations=restaurant_locations.drop(columns=['AttributeA', 'AttributeB', 'AttributeC', 'AttributeD'])\n",
    "reservations=reservations.drop(columns=['AttributeA', 'AttributeB', 'AttributeC', 'AttributeD', 'AttributeE'])\n",
    "hostipitality_customers = hostipitality_customers.drop(columns=['AttributeA', 'AttributeB', 'AttributeC', 'AttributeD'])"
   ]
  },
  {
   "cell_type": "markdown",
   "metadata": {},
   "source": [
    "## Combining dataframes"
   ]
  },
  {
   "cell_type": "code",
   "execution_count": 4,
   "metadata": {},
   "outputs": [],
   "source": [
    "# merge reservations and hospitality_customers on CustomerID.\n",
    "hospitality_reservations = hostipitality_customers.merge(reservations, how='inner', on='CustomerID')\n",
    "\n",
    "# locationID of hospitality_reservations avec restaurant_locations\n",
    "hos_res_loc = hospitality_reservations.merge(restaurant_locations, how='inner', on=\"LocationID\")\n",
    "\n",
    "#merging surveys and surveys_contacts\n",
    "surveys_survey_contacts = survey_contacts.merge(surveys, how='inner', on='SurveyContactID')"
   ]
  },
  {
   "cell_type": "code",
   "execution_count": 26,
   "metadata": {},
   "outputs": [
    {
     "name": "stdout",
     "output_type": "stream",
     "text": [
      "(1566569, 10)\n",
      "(1000006, 14)\n",
      "(1566569, 23)\n",
      "(931, 9)\n"
     ]
    }
   ],
   "source": [
    "print(reservations.shape)\n",
    "print(hostipitality_customers.shape)\n",
    "print(hospitality_reservations.shape)\n",
    "print(restaurant_locations.shape)"
   ]
  },
  {
   "cell_type": "markdown",
   "metadata": {},
   "source": [
    "## rename column names"
   ]
  },
  {
   "cell_type": "code",
   "execution_count": 5,
   "metadata": {},
   "outputs": [],
   "source": [
    "#rename columns\n",
    "import re\n",
    "hos_res_loc = hos_res_loc.rename(columns=lambda x: re.sub('_x','',x))\n",
    "hos_res_loc = hos_res_loc.rename(columns=lambda y: re.sub('_y', '_restaurant', y))"
   ]
  },
  {
   "cell_type": "code",
   "execution_count": 6,
   "metadata": {},
   "outputs": [],
   "source": [
    "#1566569 rows × 31 columns without dropna\n",
    "#418 rows × 31 columns with dropna"
   ]
  },
  {
   "cell_type": "markdown",
   "metadata": {},
   "source": [
    "## Column names"
   ]
  },
  {
   "cell_type": "code",
   "execution_count": 51,
   "metadata": {},
   "outputs": [
    {
     "data": {
      "text/plain": [
       "Index(['ReservationID', 'CustomerID', 'LocationID', 'Source',\n",
       "       'ReservationDate', 'CheckOutDate', 'NumberOfGuests', 'TotalPrice',\n",
       "       'Subject', 'Description'],\n",
       "      dtype='object')"
      ]
     },
     "execution_count": 51,
     "metadata": {},
     "output_type": "execute_result"
    }
   ],
   "source": [
    "reservations.columns"
   ]
  },
  {
   "cell_type": "code",
   "execution_count": 126,
   "metadata": {},
   "outputs": [
    {
     "data": {
      "text/plain": [
       "Index(['SurveyContactID', 'Name', 'Email', 'DOB', 'Gender', 'StreetAddress',\n",
       "       'City', 'StateProvince', 'Country', 'PostalCode', 'PhoneNumber',\n",
       "       'ExtraActivity', 'SurveyID', 'SurveyDate', 'SurveyQuestion', 'Response',\n",
       "       'Subject', 'Description'],\n",
       "      dtype='object')"
      ]
     },
     "execution_count": 126,
     "metadata": {},
     "output_type": "execute_result"
    }
   ],
   "source": [
    "surveys_survey_contacts.columns"
   ]
  },
  {
   "cell_type": "markdown",
   "metadata": {},
   "source": [
    "## column Value intersections\n",
    "\n",
    "No intersections between CustomerID and SurveyContactID\n",
    "\n",
    "But EmailID and Email have intersections"
   ]
  },
  {
   "cell_type": "code",
   "execution_count": 128,
   "metadata": {},
   "outputs": [
    {
     "data": {
      "text/plain": [
       "False    1512944\n",
       "True       53625\n",
       "Name: PhoneNumber, dtype: int64"
      ]
     },
     "execution_count": 128,
     "metadata": {},
     "output_type": "execute_result"
    }
   ],
   "source": [
    "#check the number of phone number matches between the two columns\n",
    "hos_res_loc['PhoneNumber'].isin(hos_res_loc['Phone']).value_counts()#"
   ]
  },
  {
   "cell_type": "code",
   "execution_count": 135,
   "metadata": {},
   "outputs": [
    {
     "data": {
      "text/plain": [
       "False    1489065\n",
       "True       77504\n",
       "Name: Phone, dtype: int64"
      ]
     },
     "execution_count": 135,
     "metadata": {},
     "output_type": "execute_result"
    }
   ],
   "source": [
    "#check the number of phone number matches between the two columns\n",
    "hos_res_loc['Phone'].isin(hos_res_loc['PhoneNumber']).value_counts()#"
   ]
  },
  {
   "cell_type": "code",
   "execution_count": 16,
   "metadata": {},
   "outputs": [
    {
     "data": {
      "text/plain": [
       "True     1080064\n",
       "False     486505\n",
       "Name: EmailId, dtype: int64"
      ]
     },
     "execution_count": 16,
     "metadata": {},
     "output_type": "execute_result"
    }
   ],
   "source": [
    "hos_res_loc.EmailId.isin(surveys_survey_contacts.Email).value_counts()"
   ]
  },
  {
   "cell_type": "code",
   "execution_count": 17,
   "metadata": {},
   "outputs": [
    {
     "data": {
      "text/plain": [
       "True     1092383\n",
       "False      57499\n",
       "Name: Email, dtype: int64"
      ]
     },
     "execution_count": 17,
     "metadata": {},
     "output_type": "execute_result"
    }
   ],
   "source": [
    "surveys_survey_contacts.Email.isin(hos_res_loc.EmailId).value_counts()"
   ]
  },
  {
   "cell_type": "code",
   "execution_count": 12,
   "metadata": {},
   "outputs": [
    {
     "data": {
      "text/plain": [
       "False    1566569\n",
       "Name: CustomerID, dtype: int64"
      ]
     },
     "execution_count": 12,
     "metadata": {},
     "output_type": "execute_result"
    }
   ],
   "source": [
    "hos_res_loc.CustomerID.isin(surveys_survey_contacts.SurveyContactID).value_counts()"
   ]
  },
  {
   "cell_type": "code",
   "execution_count": 33,
   "metadata": {},
   "outputs": [
    {
     "data": {
      "text/html": [
       "<div>\n",
       "<style scoped>\n",
       "    .dataframe tbody tr th:only-of-type {\n",
       "        vertical-align: middle;\n",
       "    }\n",
       "\n",
       "    .dataframe tbody tr th {\n",
       "        vertical-align: top;\n",
       "    }\n",
       "\n",
       "    .dataframe thead th {\n",
       "        text-align: right;\n",
       "    }\n",
       "</style>\n",
       "<table border=\"1\" class=\"dataframe\">\n",
       "  <thead>\n",
       "    <tr style=\"text-align: right;\">\n",
       "      <th>Response</th>\n",
       "      <th>5</th>\n",
       "      <th>6</th>\n",
       "      <th>7</th>\n",
       "      <th>8</th>\n",
       "      <th>9</th>\n",
       "      <th>10</th>\n",
       "    </tr>\n",
       "    <tr>\n",
       "      <th>Gender</th>\n",
       "      <th></th>\n",
       "      <th></th>\n",
       "      <th></th>\n",
       "      <th></th>\n",
       "      <th></th>\n",
       "      <th></th>\n",
       "    </tr>\n",
       "  </thead>\n",
       "  <tbody>\n",
       "    <tr>\n",
       "      <th>Female</th>\n",
       "      <td>78611</td>\n",
       "      <td>56865</td>\n",
       "      <td>44911</td>\n",
       "      <td>24827</td>\n",
       "      <td>235406</td>\n",
       "      <td>135521</td>\n",
       "    </tr>\n",
       "    <tr>\n",
       "      <th>Male</th>\n",
       "      <td>78464</td>\n",
       "      <td>56517</td>\n",
       "      <td>44746</td>\n",
       "      <td>24772</td>\n",
       "      <td>234146</td>\n",
       "      <td>135096</td>\n",
       "    </tr>\n",
       "  </tbody>\n",
       "</table>\n",
       "</div>"
      ],
      "text/plain": [
       "Response     5      6      7      8       9       10\n",
       "Gender                                              \n",
       "Female    78611  56865  44911  24827  235406  135521\n",
       "Male      78464  56517  44746  24772  234146  135096"
      ]
     },
     "execution_count": 33,
     "metadata": {},
     "output_type": "execute_result"
    }
   ],
   "source": [
    "pd.crosstab(surveys_survey_contacts.Gender, surveys_survey_contacts.Response)"
   ]
  },
  {
   "cell_type": "markdown",
   "metadata": {},
   "source": [
    "## Merge hos_res_loc and surveys_survey_contacts on EmailId"
   ]
  },
  {
   "cell_type": "code",
   "execution_count": 19,
   "metadata": {},
   "outputs": [],
   "source": [
    "#rename hos_res_loc.EmailId as Email\n",
    "hos_res_loc = hos_res_loc.rename(columns={\"EmailId\":\"Email\"})"
   ]
  },
  {
   "cell_type": "code",
   "execution_count": 47,
   "metadata": {},
   "outputs": [
    {
     "data": {
      "text/plain": [
       "Index(['Name', 'City', 'Country', 'Email', 'Gender', 'DOB', 'ExtraActivity',\n",
       "       'Subject', 'Description', 'PhoneNumber'],\n",
       "      dtype='object')"
      ]
     },
     "execution_count": 47,
     "metadata": {},
     "output_type": "execute_result"
    }
   ],
   "source": [
    "hos_res_loc.columns.intersection(surveys_survey_contacts.columns)"
   ]
  },
  {
   "cell_type": "code",
   "execution_count": 49,
   "metadata": {
    "scrolled": true
   },
   "outputs": [
    {
     "name": "stdout",
     "output_type": "stream",
     "text": [
      "Name             object\n",
      "City             object\n",
      "Country          object\n",
      "Email            object\n",
      "Gender           object\n",
      "DOB              object\n",
      "ExtraActivity    object\n",
      "Subject          object\n",
      "Description      object\n",
      "PhoneNumber      object\n",
      "dtype: object\n"
     ]
    }
   ],
   "source": [
    "print(hos_res_loc[['Name', 'City', 'Country', 'Email', 'Gender', 'DOB', 'ExtraActivity',\n",
    "       'Subject', 'Description', 'PhoneNumber']].dtypes)"
   ]
  },
  {
   "cell_type": "code",
   "execution_count": 50,
   "metadata": {
    "scrolled": true
   },
   "outputs": [
    {
     "name": "stdout",
     "output_type": "stream",
     "text": [
      "Name             object\n",
      "City             object\n",
      "Country          object\n",
      "Email            object\n",
      "Gender           object\n",
      "DOB              object\n",
      "ExtraActivity    object\n",
      "Subject          object\n",
      "Description      object\n",
      "PhoneNumber      object\n",
      "dtype: object\n"
     ]
    }
   ],
   "source": [
    "print(surveys_survey_contacts[['Name', 'City', 'Country', 'Email', 'Gender', 'DOB', 'ExtraActivity',\n",
    "       'Subject', 'Description', 'PhoneNumber']].dtypes)"
   ]
  },
  {
   "cell_type": "code",
   "execution_count": 52,
   "metadata": {},
   "outputs": [],
   "source": [
    "# data_merged = surveys_survey_contacts.merge(hos_res_loc, how='inner', on='Email')"
   ]
  },
  {
   "cell_type": "code",
   "execution_count": null,
   "metadata": {},
   "outputs": [],
   "source": []
  },
  {
   "cell_type": "code",
   "execution_count": null,
   "metadata": {},
   "outputs": [],
   "source": []
  },
  {
   "cell_type": "markdown",
   "metadata": {},
   "source": [
    "## resturant and customer are in the same area or not"
   ]
  },
  {
   "cell_type": "code",
   "execution_count": 174,
   "metadata": {},
   "outputs": [
    {
     "data": {
      "text/plain": [
       "True     1361415\n",
       "False     205154\n",
       "Name: City, dtype: int64"
      ]
     },
     "execution_count": 174,
     "metadata": {},
     "output_type": "execute_result"
    }
   ],
   "source": [
    "hos_res_loc.City.isin(hos_res_loc.City_restaurant).value_counts()"
   ]
  },
  {
   "cell_type": "markdown",
   "metadata": {},
   "source": [
    "## null values"
   ]
  },
  {
   "cell_type": "code",
   "execution_count": 141,
   "metadata": {
    "scrolled": true
   },
   "outputs": [
    {
     "data": {
      "text/plain": [
       "Name                   True\n",
       "Address                True\n",
       "City                  False\n",
       "State                 False\n",
       "Country               False\n",
       "Zip                   False\n",
       "EmailId                True\n",
       "Gender                False\n",
       "DOB                   False\n",
       "Phone                  True\n",
       "SSN                   False\n",
       "Individual            False\n",
       "ExtraActivity          True\n",
       "CustomerID            False\n",
       "ReservationID         False\n",
       "LocationID            False\n",
       "Source                False\n",
       "ReservationDate       False\n",
       "CheckOutDate          False\n",
       "NumberOfGuests        False\n",
       "TotalPrice            False\n",
       "Subject               False\n",
       "Description           False\n",
       "Name_restaurant        True\n",
       "Address_restaurant     True\n",
       "City_restaurant       False\n",
       "State_restaurant      False\n",
       "Zip_restaurant        False\n",
       "Country_restaurant    False\n",
       "PhoneNumber            True\n",
       "NoOfTables            False\n",
       "dtype: bool"
      ]
     },
     "execution_count": 141,
     "metadata": {},
     "output_type": "execute_result"
    }
   ],
   "source": [
    "pd.isnull(hos_res_loc).any()"
   ]
  },
  {
   "cell_type": "code",
   "execution_count": 142,
   "metadata": {},
   "outputs": [
    {
     "data": {
      "text/plain": [
       "SurveyContactID    False\n",
       "Name                True\n",
       "Email               True\n",
       "DOB                False\n",
       "Gender             False\n",
       "StreetAddress       True\n",
       "City               False\n",
       "StateProvince      False\n",
       "Country            False\n",
       "PostalCode         False\n",
       "PhoneNumber         True\n",
       "ExtraActivity       True\n",
       "SurveyID           False\n",
       "SurveyDate         False\n",
       "SurveyQuestion     False\n",
       "Response           False\n",
       "Subject            False\n",
       "Description        False\n",
       "dtype: bool"
      ]
     },
     "execution_count": 142,
     "metadata": {},
     "output_type": "execute_result"
    }
   ],
   "source": [
    "pd.isnull(surveys_survey_contacts).any()"
   ]
  },
  {
   "cell_type": "markdown",
   "metadata": {},
   "source": [
    "## Delete further un desired columns"
   ]
  },
  {
   "cell_type": "code",
   "execution_count": null,
   "metadata": {},
   "outputs": [],
   "source": []
  },
  {
   "cell_type": "code",
   "execution_count": null,
   "metadata": {},
   "outputs": [],
   "source": []
  },
  {
   "cell_type": "code",
   "execution_count": null,
   "metadata": {},
   "outputs": [],
   "source": []
  },
  {
   "cell_type": "code",
   "execution_count": null,
   "metadata": {},
   "outputs": [],
   "source": []
  },
  {
   "cell_type": "code",
   "execution_count": null,
   "metadata": {},
   "outputs": [],
   "source": []
  },
  {
   "cell_type": "code",
   "execution_count": null,
   "metadata": {},
   "outputs": [],
   "source": []
  },
  {
   "cell_type": "markdown",
   "metadata": {},
   "source": [
    "## Feature selection"
   ]
  },
  {
   "cell_type": "code",
   "execution_count": null,
   "metadata": {},
   "outputs": [],
   "source": []
  },
  {
   "cell_type": "code",
   "execution_count": null,
   "metadata": {},
   "outputs": [],
   "source": []
  }
 ],
 "metadata": {
  "kernelspec": {
   "display_name": "Python 3",
   "language": "python",
   "name": "python3"
  },
  "language_info": {
   "codemirror_mode": {
    "name": "ipython",
    "version": 3
   },
   "file_extension": ".py",
   "mimetype": "text/x-python",
   "name": "python",
   "nbconvert_exporter": "python",
   "pygments_lexer": "ipython3",
   "version": "3.6.5"
  }
 },
 "nbformat": 4,
 "nbformat_minor": 2
}
